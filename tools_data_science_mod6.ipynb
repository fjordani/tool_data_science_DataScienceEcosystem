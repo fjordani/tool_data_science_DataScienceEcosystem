{
 "cells": [
  {
   "cell_type": "markdown",
   "id": "d608b20a",
   "metadata": {},
   "source": [
    "<h1>Data Science Tools and Ecosystem</h1>"
   ]
  },
  {
   "cell_type": "markdown",
   "id": "4fb845bb",
   "metadata": {},
   "source": [
    "<h3>In this notebook, Data Science Tools and Ecosystem are summarized.</h3>"
   ]
  },
  {
   "cell_type": "markdown",
   "id": "6c8365b4",
   "metadata": {},
   "source": [
    "<h4>Objectives:<h4>\n",
    "    <ul>\n",
    "        <li><strong>List examples of languages used in Data Science</strong></li>\n",
    "        <li><strong>Create a Jupyter Notebook with markdown and code cells</strong></li>\n",
    "        <li><strong>Explain some </strong></li>\n",
    "        <li><strong>List examples of libraries used in Data Science</strong></li>\n",
    "        <li><strong>List examples of tools used in Data Science</strong></li>\n",
    "    </ul>"
   ]
  },
  {
   "cell_type": "markdown",
   "id": "575f88c5",
   "metadata": {},
   "source": [
    "<p>Some of the popular languages that Data Scientists use are:\n",
    "    <ol>\n",
    "        <li>Python</li>\n",
    "        <li>Java/Scala</li>\n",
    "        <li>R</li>\n",
    "        <li>Julia</li>\n",
    "    </ol>\n",
    "</p>"
   ]
  },
  {
   "cell_type": "markdown",
   "id": "126c08b9",
   "metadata": {},
   "source": [
    "<p>Some of the commonly used libraries used by Data Scientists include:\n",
    "    <ol>\n",
    "        <li>NumPy: For numerical operations and handling arrays;</li>\n",
    "        <li>Pandas: For data manipulation and analysis;</li>\n",
    "        <li>Matplotlib/Seaborn: For data visualization;</li>\n",
    "        <li>Scikit-Learn: For machine learning;</li>\n",
    "        <li>TensorFlow/PyTorch: For deep learning.</li>\n",
    "    </ol>\n",
    "</p>"
   ]
  },
  {
   "cell_type": "markdown",
   "id": "28d2793d",
   "metadata": {},
   "source": [
    "|Data Science Tools|\n",
    "|----------|\n",
    "|Jupyter Notebook|\n",
    "|RStudio|\n",
    "|Apache Zeppelin|"
   ]
  },
  {
   "cell_type": "markdown",
   "id": "e8ab9564",
   "metadata": {},
   "source": [
    "<h3>Below are a few examples of evaluating arithmetic expressions in Python</h3>"
   ]
  },
  {
   "cell_type": "code",
   "execution_count": 1,
   "id": "a7acf9ac",
   "metadata": {},
   "outputs": [
    {
     "data": {
      "text/plain": [
       "17"
      ]
     },
     "execution_count": 1,
     "metadata": {},
     "output_type": "execute_result"
    }
   ],
   "source": [
    "# This a simple arithmetic expression to mutiply then add integers\n",
    "(3*4)+5"
   ]
  },
  {
   "cell_type": "code",
   "execution_count": 2,
   "id": "a2c20807",
   "metadata": {},
   "outputs": [
    {
     "data": {
      "text/plain": [
       "3"
      ]
     },
     "execution_count": 2,
     "metadata": {},
     "output_type": "execute_result"
    }
   ],
   "source": [
    "# This will convert 200 minutes to hours by diving by 60\n",
    "200//60"
   ]
  },
  {
   "cell_type": "markdown",
   "id": "2e47e684",
   "metadata": {},
   "source": [
    "<p>\n",
    "<h2>Author</h2>\n",
    "Felipe Jordani\n",
    "</p>"
   ]
  }
 ],
 "metadata": {
  "kernelspec": {
   "display_name": "Python 3 (ipykernel)",
   "language": "python",
   "name": "python3"
  },
  "language_info": {
   "codemirror_mode": {
    "name": "ipython",
    "version": 3
   },
   "file_extension": ".py",
   "mimetype": "text/x-python",
   "name": "python",
   "nbconvert_exporter": "python",
   "pygments_lexer": "ipython3",
   "version": "3.11.0"
  }
 },
 "nbformat": 4,
 "nbformat_minor": 5
}
